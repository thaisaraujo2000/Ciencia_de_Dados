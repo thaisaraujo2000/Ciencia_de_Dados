{
  "nbformat": 4,
  "nbformat_minor": 0,
  "metadata": {
    "colab": {
      "name": "Trabalho1CiênciaDeDados.ipynb",
      "provenance": [],
      "collapsed_sections": [
        "DUdd7ZWcyIup",
        "ZEbSaXuLySmJ",
        "VLAREwq-yh67",
        "Dvx0GqdM8cEo",
        "-4J4xGiH8e5i",
        "lJf6JkiL8iQo",
        "Rf5VUY3sQi3h"
      ]
    },
    "kernelspec": {
      "name": "python3",
      "display_name": "Python 3"
    },
    "language_info": {
      "name": "python"
    }
  },
  "cells": [
    {
      "cell_type": "markdown",
      "metadata": {
        "id": "Sjttab1RTkM2"
      },
      "source": [
        "# Trabalho 1 - Ciência de dados\n"
      ]
    },
    {
      "cell_type": "markdown",
      "metadata": {
        "id": "LiERgrDWTpIL"
      },
      "source": [
        "## Análise de músicas mais ouvidas no Spotify\n",
        "\n",
        "###### Este notebook tem como objetivo fazer uma análise geral das músicas mais escutadas no Spotify pelos brasileiros. Ele conta com informações sobre as top 200 músicas do Brasil em todos os dias de 2017 a 2020"
      ]
    },
    {
      "cell_type": "markdown",
      "metadata": {
        "id": "xPPM9HIEaZZ9"
      },
      "source": [
        "### **Passo 1**: Tratamento inicial do DataFrame"
      ]
    },
    {
      "cell_type": "code",
      "metadata": {
        "id": "PobYT8-BSHzW"
      },
      "source": [
        "#Configurações iniciais para o ambiente\n",
        "import pandas as pd\n",
        "import matplotlib.pyplot as plt\n",
        "from datetime import datetime\n",
        "import seaborn as sns\n",
        "import numpy as np\n",
        "sns.set()"
      ],
      "execution_count": null,
      "outputs": []
    },
    {
      "cell_type": "code",
      "metadata": {
        "colab": {
          "base_uri": "https://localhost:8080/",
          "height": 979
        },
        "id": "foWU82ypehNB",
        "outputId": "6199ca98-c397-44ab-edaa-d9a8f3df1091"
      },
      "source": [
        "df1 = pd.read_csv('https://raw.githubusercontent.com/thaisaraujo2000/Dados_Spotify/main/df_top.csv') #Data frame inicial\n",
        "df1.info()\n",
        "df = df1.dropna() #Retirando valores nulos\n",
        "df.info()\n",
        "df #Mostrando o dataframe inicial"
      ],
      "execution_count": null,
      "outputs": [
        {
          "output_type": "stream",
          "name": "stdout",
          "text": [
            "<class 'pandas.core.frame.DataFrame'>\n",
            "RangeIndex: 274600 entries, 0 to 274599\n",
            "Data columns (total 9 columns):\n",
            " #   Column          Non-Null Count   Dtype  \n",
            "---  ------          --------------   -----  \n",
            " 0   Unnamed: 0      274600 non-null  int64  \n",
            " 1   Position        274600 non-null  float64\n",
            " 2   Track Name      274559 non-null  object \n",
            " 3   Artist          274559 non-null  object \n",
            " 4   Streams         274600 non-null  float64\n",
            " 5   URL             274600 non-null  object \n",
            " 6   data_chart      274600 non-null  object \n",
            " 7   data_chart_int  274600 non-null  int64  \n",
            " 8   track_id        274600 non-null  object \n",
            "dtypes: float64(2), int64(2), object(5)\n",
            "memory usage: 18.9+ MB\n",
            "<class 'pandas.core.frame.DataFrame'>\n",
            "Int64Index: 274559 entries, 0 to 274599\n",
            "Data columns (total 9 columns):\n",
            " #   Column          Non-Null Count   Dtype  \n",
            "---  ------          --------------   -----  \n",
            " 0   Unnamed: 0      274559 non-null  int64  \n",
            " 1   Position        274559 non-null  float64\n",
            " 2   Track Name      274559 non-null  object \n",
            " 3   Artist          274559 non-null  object \n",
            " 4   Streams         274559 non-null  float64\n",
            " 5   URL             274559 non-null  object \n",
            " 6   data_chart      274559 non-null  object \n",
            " 7   data_chart_int  274559 non-null  int64  \n",
            " 8   track_id        274559 non-null  object \n",
            "dtypes: float64(2), int64(2), object(5)\n",
            "memory usage: 20.9+ MB\n"
          ]
        },
        {
          "output_type": "execute_result",
          "data": {
            "text/html": [
              "\n",
              "  <div id=\"df-e0ce82d5-33ad-4ed6-a3d5-90ea55c38220\">\n",
              "    <div class=\"colab-df-container\">\n",
              "      <div>\n",
              "<style scoped>\n",
              "    .dataframe tbody tr th:only-of-type {\n",
              "        vertical-align: middle;\n",
              "    }\n",
              "\n",
              "    .dataframe tbody tr th {\n",
              "        vertical-align: top;\n",
              "    }\n",
              "\n",
              "    .dataframe thead th {\n",
              "        text-align: right;\n",
              "    }\n",
              "</style>\n",
              "<table border=\"1\" class=\"dataframe\">\n",
              "  <thead>\n",
              "    <tr style=\"text-align: right;\">\n",
              "      <th></th>\n",
              "      <th>Unnamed: 0</th>\n",
              "      <th>Position</th>\n",
              "      <th>Track Name</th>\n",
              "      <th>Artist</th>\n",
              "      <th>Streams</th>\n",
              "      <th>URL</th>\n",
              "      <th>data_chart</th>\n",
              "      <th>data_chart_int</th>\n",
              "      <th>track_id</th>\n",
              "    </tr>\n",
              "  </thead>\n",
              "  <tbody>\n",
              "    <tr>\n",
              "      <th>0</th>\n",
              "      <td>0</td>\n",
              "      <td>1.0</td>\n",
              "      <td>Deu Onda</td>\n",
              "      <td>MC G15</td>\n",
              "      <td>612271.0</td>\n",
              "      <td>https://open.spotify.com/track/0EPxmvsG1BY5td4...</td>\n",
              "      <td>2017-01-01</td>\n",
              "      <td>20170101</td>\n",
              "      <td>0EPxmvsG1BY5td4aTOkWBF</td>\n",
              "    </tr>\n",
              "    <tr>\n",
              "      <th>1</th>\n",
              "      <td>1</td>\n",
              "      <td>2.0</td>\n",
              "      <td>Hear Me Now</td>\n",
              "      <td>Alok</td>\n",
              "      <td>269574.0</td>\n",
              "      <td>https://open.spotify.com/track/1a5Yu5L18qNxVhX...</td>\n",
              "      <td>2017-01-01</td>\n",
              "      <td>20170101</td>\n",
              "      <td>1a5Yu5L18qNxVhXx38njON</td>\n",
              "    </tr>\n",
              "    <tr>\n",
              "      <th>2</th>\n",
              "      <td>2</td>\n",
              "      <td>3.0</td>\n",
              "      <td>10% - Ao Vivo</td>\n",
              "      <td>Maiara &amp; Maraisa</td>\n",
              "      <td>228307.0</td>\n",
              "      <td>https://open.spotify.com/track/2wFnRPjuqwNySFi...</td>\n",
              "      <td>2017-01-01</td>\n",
              "      <td>20170101</td>\n",
              "      <td>2wFnRPjuqwNySFiK0Qfg8L</td>\n",
              "    </tr>\n",
              "    <tr>\n",
              "      <th>3</th>\n",
              "      <td>3</td>\n",
              "      <td>4.0</td>\n",
              "      <td>Eu Sei de Cor - Ao Vivo | Acústico</td>\n",
              "      <td>Marília Mendonça</td>\n",
              "      <td>217394.0</td>\n",
              "      <td>https://open.spotify.com/track/45wqPwIH4A5cr2I...</td>\n",
              "      <td>2017-01-01</td>\n",
              "      <td>20170101</td>\n",
              "      <td>45wqPwIH4A5cr2IyyD4WKf</td>\n",
              "    </tr>\n",
              "    <tr>\n",
              "      <th>4</th>\n",
              "      <td>4</td>\n",
              "      <td>5.0</td>\n",
              "      <td>Meu Coração Deu PT - Ao Vivo</td>\n",
              "      <td>Wesley Safadão</td>\n",
              "      <td>214171.0</td>\n",
              "      <td>https://open.spotify.com/track/6zCqeUUqLb2CapB...</td>\n",
              "      <td>2017-01-01</td>\n",
              "      <td>20170101</td>\n",
              "      <td>6zCqeUUqLb2CapBmVwAHll</td>\n",
              "    </tr>\n",
              "    <tr>\n",
              "      <th>...</th>\n",
              "      <td>...</td>\n",
              "      <td>...</td>\n",
              "      <td>...</td>\n",
              "      <td>...</td>\n",
              "      <td>...</td>\n",
              "      <td>...</td>\n",
              "      <td>...</td>\n",
              "      <td>...</td>\n",
              "      <td>...</td>\n",
              "    </tr>\n",
              "    <tr>\n",
              "      <th>274595</th>\n",
              "      <td>195</td>\n",
              "      <td>196.0</td>\n",
              "      <td>I Don't Care (with Justin Bieber)</td>\n",
              "      <td>Ed Sheeran</td>\n",
              "      <td>78523.0</td>\n",
              "      <td>https://open.spotify.com/track/0hVXuCcriWRGvwM...</td>\n",
              "      <td>2020-10-07</td>\n",
              "      <td>20201007</td>\n",
              "      <td>0hVXuCcriWRGvwMV1r5Yn9</td>\n",
              "    </tr>\n",
              "    <tr>\n",
              "      <th>274596</th>\n",
              "      <td>196</td>\n",
              "      <td>197.0</td>\n",
              "      <td>Psicose</td>\n",
              "      <td>Hungria Hip Hop</td>\n",
              "      <td>78313.0</td>\n",
              "      <td>https://open.spotify.com/track/3Hi829to1jWWtcU...</td>\n",
              "      <td>2020-10-07</td>\n",
              "      <td>20201007</td>\n",
              "      <td>3Hi829to1jWWtcUxMdbJng</td>\n",
              "    </tr>\n",
              "    <tr>\n",
              "      <th>274597</th>\n",
              "      <td>197</td>\n",
              "      <td>198.0</td>\n",
              "      <td>Tijolão - Ao Vivo</td>\n",
              "      <td>Jorge &amp; Mateus</td>\n",
              "      <td>78179.0</td>\n",
              "      <td>https://open.spotify.com/track/6QwFUcPc5nhsqZu...</td>\n",
              "      <td>2020-10-07</td>\n",
              "      <td>20201007</td>\n",
              "      <td>6QwFUcPc5nhsqZuhXUYtV7</td>\n",
              "    </tr>\n",
              "    <tr>\n",
              "      <th>274598</th>\n",
              "      <td>198</td>\n",
              "      <td>199.0</td>\n",
              "      <td>Shape of You</td>\n",
              "      <td>Ed Sheeran</td>\n",
              "      <td>78085.0</td>\n",
              "      <td>https://open.spotify.com/track/7qiZfU4dY1lWllz...</td>\n",
              "      <td>2020-10-07</td>\n",
              "      <td>20201007</td>\n",
              "      <td>7qiZfU4dY1lWllzX7mPBI3</td>\n",
              "    </tr>\n",
              "    <tr>\n",
              "      <th>274599</th>\n",
              "      <td>199</td>\n",
              "      <td>200.0</td>\n",
              "      <td>Brisa</td>\n",
              "      <td>IZA</td>\n",
              "      <td>77994.0</td>\n",
              "      <td>https://open.spotify.com/track/5rNNZ6fVYxkhwqU...</td>\n",
              "      <td>2020-10-07</td>\n",
              "      <td>20201007</td>\n",
              "      <td>5rNNZ6fVYxkhwqUfImVhU1</td>\n",
              "    </tr>\n",
              "  </tbody>\n",
              "</table>\n",
              "<p>274559 rows × 9 columns</p>\n",
              "</div>\n",
              "      <button class=\"colab-df-convert\" onclick=\"convertToInteractive('df-e0ce82d5-33ad-4ed6-a3d5-90ea55c38220')\"\n",
              "              title=\"Convert this dataframe to an interactive table.\"\n",
              "              style=\"display:none;\">\n",
              "        \n",
              "  <svg xmlns=\"http://www.w3.org/2000/svg\" height=\"24px\"viewBox=\"0 0 24 24\"\n",
              "       width=\"24px\">\n",
              "    <path d=\"M0 0h24v24H0V0z\" fill=\"none\"/>\n",
              "    <path d=\"M18.56 5.44l.94 2.06.94-2.06 2.06-.94-2.06-.94-.94-2.06-.94 2.06-2.06.94zm-11 1L8.5 8.5l.94-2.06 2.06-.94-2.06-.94L8.5 2.5l-.94 2.06-2.06.94zm10 10l.94 2.06.94-2.06 2.06-.94-2.06-.94-.94-2.06-.94 2.06-2.06.94z\"/><path d=\"M17.41 7.96l-1.37-1.37c-.4-.4-.92-.59-1.43-.59-.52 0-1.04.2-1.43.59L10.3 9.45l-7.72 7.72c-.78.78-.78 2.05 0 2.83L4 21.41c.39.39.9.59 1.41.59.51 0 1.02-.2 1.41-.59l7.78-7.78 2.81-2.81c.8-.78.8-2.07 0-2.86zM5.41 20L4 18.59l7.72-7.72 1.47 1.35L5.41 20z\"/>\n",
              "  </svg>\n",
              "      </button>\n",
              "      \n",
              "  <style>\n",
              "    .colab-df-container {\n",
              "      display:flex;\n",
              "      flex-wrap:wrap;\n",
              "      gap: 12px;\n",
              "    }\n",
              "\n",
              "    .colab-df-convert {\n",
              "      background-color: #E8F0FE;\n",
              "      border: none;\n",
              "      border-radius: 50%;\n",
              "      cursor: pointer;\n",
              "      display: none;\n",
              "      fill: #1967D2;\n",
              "      height: 32px;\n",
              "      padding: 0 0 0 0;\n",
              "      width: 32px;\n",
              "    }\n",
              "\n",
              "    .colab-df-convert:hover {\n",
              "      background-color: #E2EBFA;\n",
              "      box-shadow: 0px 1px 2px rgba(60, 64, 67, 0.3), 0px 1px 3px 1px rgba(60, 64, 67, 0.15);\n",
              "      fill: #174EA6;\n",
              "    }\n",
              "\n",
              "    [theme=dark] .colab-df-convert {\n",
              "      background-color: #3B4455;\n",
              "      fill: #D2E3FC;\n",
              "    }\n",
              "\n",
              "    [theme=dark] .colab-df-convert:hover {\n",
              "      background-color: #434B5C;\n",
              "      box-shadow: 0px 1px 3px 1px rgba(0, 0, 0, 0.15);\n",
              "      filter: drop-shadow(0px 1px 2px rgba(0, 0, 0, 0.3));\n",
              "      fill: #FFFFFF;\n",
              "    }\n",
              "  </style>\n",
              "\n",
              "      <script>\n",
              "        const buttonEl =\n",
              "          document.querySelector('#df-e0ce82d5-33ad-4ed6-a3d5-90ea55c38220 button.colab-df-convert');\n",
              "        buttonEl.style.display =\n",
              "          google.colab.kernel.accessAllowed ? 'block' : 'none';\n",
              "\n",
              "        async function convertToInteractive(key) {\n",
              "          const element = document.querySelector('#df-e0ce82d5-33ad-4ed6-a3d5-90ea55c38220');\n",
              "          const dataTable =\n",
              "            await google.colab.kernel.invokeFunction('convertToInteractive',\n",
              "                                                     [key], {});\n",
              "          if (!dataTable) return;\n",
              "\n",
              "          const docLinkHtml = 'Like what you see? Visit the ' +\n",
              "            '<a target=\"_blank\" href=https://colab.research.google.com/notebooks/data_table.ipynb>data table notebook</a>'\n",
              "            + ' to learn more about interactive tables.';\n",
              "          element.innerHTML = '';\n",
              "          dataTable['output_type'] = 'display_data';\n",
              "          await google.colab.output.renderOutput(dataTable, element);\n",
              "          const docLink = document.createElement('div');\n",
              "          docLink.innerHTML = docLinkHtml;\n",
              "          element.appendChild(docLink);\n",
              "        }\n",
              "      </script>\n",
              "    </div>\n",
              "  </div>\n",
              "  "
            ],
            "text/plain": [
              "        Unnamed: 0  Position  ... data_chart_int                track_id\n",
              "0                0       1.0  ...       20170101  0EPxmvsG1BY5td4aTOkWBF\n",
              "1                1       2.0  ...       20170101  1a5Yu5L18qNxVhXx38njON\n",
              "2                2       3.0  ...       20170101  2wFnRPjuqwNySFiK0Qfg8L\n",
              "3                3       4.0  ...       20170101  45wqPwIH4A5cr2IyyD4WKf\n",
              "4                4       5.0  ...       20170101  6zCqeUUqLb2CapBmVwAHll\n",
              "...            ...       ...  ...            ...                     ...\n",
              "274595         195     196.0  ...       20201007  0hVXuCcriWRGvwMV1r5Yn9\n",
              "274596         196     197.0  ...       20201007  3Hi829to1jWWtcUxMdbJng\n",
              "274597         197     198.0  ...       20201007  6QwFUcPc5nhsqZuhXUYtV7\n",
              "274598         198     199.0  ...       20201007  7qiZfU4dY1lWllzX7mPBI3\n",
              "274599         199     200.0  ...       20201007  5rNNZ6fVYxkhwqUfImVhU1\n",
              "\n",
              "[274559 rows x 9 columns]"
            ]
          },
          "metadata": {},
          "execution_count": 2
        }
      ]
    },
    {
      "cell_type": "code",
      "metadata": {
        "id": "tWN0LkSshNP3",
        "colab": {
          "base_uri": "https://localhost:8080/",
          "height": 424
        },
        "outputId": "59d31c3a-ed30-4d47-f910-8ef81722ba0c"
      },
      "source": [
        "#Tratamento dos dataframes de outubro, novembro e dezembro de 2020\n",
        "\n",
        "#Outubro de 2020\n",
        "df_out_2020 = pd.read_csv('https://raw.githubusercontent.com/thaisaraujo2000/Dados_Spotify/main/2020-10-unico.csv')\n",
        "df_out_2020 = df_out_2020.rename(columns={'Unnamed: 0': 'Track Name', 'Unnamed: 1': 'Artist', 'Unnamed: 2': 'Streams','Note that these figures are generated using a formula that protects against any artificial inflation of chart positions.': 'URL', 'Unnamed: 4': 'data_chart'})\n",
        "df_out_2020['Position'] = df_out_2020.index \n",
        "df_out_2020 = df_out_2020.drop(df_out_2020.index[0])\n",
        "df_out_2020 = df_out_2020.drop(columns=['URL'])\n",
        "df_out_2020['Streams'] = df_out_2020['Streams'].apply(pd.to_numeric)\n",
        "\n",
        "\n",
        "#Novembro de 2020\n",
        "df_nov_2020 = pd.read_csv('https://raw.githubusercontent.com/thaisaraujo2000/Dados_Spotify/main/2020-11-unico.csv')\n",
        "df_nov_2020 = df_nov_2020.rename(columns={'Unnamed: 0': 'Track Name', 'Unnamed: 1': 'Artist', 'Unnamed: 2': 'Streams','Note that these figures are generated using a formula that protects against any artificial inflation of chart positions.': 'URL', 'Unnamed: 4': 'data_chart'})\n",
        "df_nov_2020['Position'] = df_nov_2020.index \n",
        "df_nov_2020 = df_nov_2020.drop(df_nov_2020.index[0])\n",
        "df_nov_2020 = df_nov_2020.drop(columns=['URL'])\n",
        "df_nov_2020['data_chart'].fillna('2020-11-29', inplace=True)\n",
        "df_nov_2020['Streams'] = df_nov_2020['Streams'].apply(pd.to_numeric)\n",
        "\n",
        "\n",
        "#Dezembro de 2020\n",
        "df_dez_2020 = pd.read_csv('https://raw.githubusercontent.com/thaisaraujo2000/Dados_Spotify/main/2020-12-unico.csv')\n",
        "df_dez_2020 = df_dez_2020.rename(columns={'Unnamed: 0': 'Position', 'Position': 'Track Name', 'Track Name': 'Artist','Artist': 'Streams', 'Streams': 'URL', 'URL': 'data_chart', 'data_chart': 'sai'})\n",
        "df_dez_2020 = df_dez_2020.drop(columns=['URL', 'sai'])\n",
        "df_dez_2020.replace(['2020-12-3'], ['2020-12-31'], inplace=True)\n",
        "df_dez_2020['Streams'] = df_dez_2020['Streams'].apply(pd.to_numeric)\n",
        "\n",
        "\n",
        "#Unindo com o dataframe com mais dados\n",
        "df = pd.concat([df, df_out_2020, df_nov_2020, df_dez_2020], ignore_index=True)\n",
        "df"
      ],
      "execution_count": null,
      "outputs": [
        {
          "output_type": "execute_result",
          "data": {
            "text/html": [
              "\n",
              "  <div id=\"df-9c73914f-bdc3-4cce-84ab-d9586d7009b6\">\n",
              "    <div class=\"colab-df-container\">\n",
              "      <div>\n",
              "<style scoped>\n",
              "    .dataframe tbody tr th:only-of-type {\n",
              "        vertical-align: middle;\n",
              "    }\n",
              "\n",
              "    .dataframe tbody tr th {\n",
              "        vertical-align: top;\n",
              "    }\n",
              "\n",
              "    .dataframe thead th {\n",
              "        text-align: right;\n",
              "    }\n",
              "</style>\n",
              "<table border=\"1\" class=\"dataframe\">\n",
              "  <thead>\n",
              "    <tr style=\"text-align: right;\">\n",
              "      <th></th>\n",
              "      <th>Unnamed: 0</th>\n",
              "      <th>Position</th>\n",
              "      <th>Track Name</th>\n",
              "      <th>Artist</th>\n",
              "      <th>Streams</th>\n",
              "      <th>URL</th>\n",
              "      <th>data_chart</th>\n",
              "      <th>data_chart_int</th>\n",
              "      <th>track_id</th>\n",
              "    </tr>\n",
              "  </thead>\n",
              "  <tbody>\n",
              "    <tr>\n",
              "      <th>0</th>\n",
              "      <td>0.0</td>\n",
              "      <td>1</td>\n",
              "      <td>Deu Onda</td>\n",
              "      <td>MC G15</td>\n",
              "      <td>612271.0</td>\n",
              "      <td>https://open.spotify.com/track/0EPxmvsG1BY5td4...</td>\n",
              "      <td>2017-01-01</td>\n",
              "      <td>20170101.0</td>\n",
              "      <td>0EPxmvsG1BY5td4aTOkWBF</td>\n",
              "    </tr>\n",
              "    <tr>\n",
              "      <th>1</th>\n",
              "      <td>1.0</td>\n",
              "      <td>2</td>\n",
              "      <td>Hear Me Now</td>\n",
              "      <td>Alok</td>\n",
              "      <td>269574.0</td>\n",
              "      <td>https://open.spotify.com/track/1a5Yu5L18qNxVhX...</td>\n",
              "      <td>2017-01-01</td>\n",
              "      <td>20170101.0</td>\n",
              "      <td>1a5Yu5L18qNxVhXx38njON</td>\n",
              "    </tr>\n",
              "    <tr>\n",
              "      <th>2</th>\n",
              "      <td>2.0</td>\n",
              "      <td>3</td>\n",
              "      <td>10% - Ao Vivo</td>\n",
              "      <td>Maiara &amp; Maraisa</td>\n",
              "      <td>228307.0</td>\n",
              "      <td>https://open.spotify.com/track/2wFnRPjuqwNySFi...</td>\n",
              "      <td>2017-01-01</td>\n",
              "      <td>20170101.0</td>\n",
              "      <td>2wFnRPjuqwNySFiK0Qfg8L</td>\n",
              "    </tr>\n",
              "    <tr>\n",
              "      <th>3</th>\n",
              "      <td>3.0</td>\n",
              "      <td>4</td>\n",
              "      <td>Eu Sei de Cor - Ao Vivo | Acústico</td>\n",
              "      <td>Marília Mendonça</td>\n",
              "      <td>217394.0</td>\n",
              "      <td>https://open.spotify.com/track/45wqPwIH4A5cr2I...</td>\n",
              "      <td>2017-01-01</td>\n",
              "      <td>20170101.0</td>\n",
              "      <td>45wqPwIH4A5cr2IyyD4WKf</td>\n",
              "    </tr>\n",
              "    <tr>\n",
              "      <th>4</th>\n",
              "      <td>4.0</td>\n",
              "      <td>5</td>\n",
              "      <td>Meu Coração Deu PT - Ao Vivo</td>\n",
              "      <td>Wesley Safadão</td>\n",
              "      <td>214171.0</td>\n",
              "      <td>https://open.spotify.com/track/6zCqeUUqLb2CapB...</td>\n",
              "      <td>2017-01-01</td>\n",
              "      <td>20170101.0</td>\n",
              "      <td>6zCqeUUqLb2CapBmVwAHll</td>\n",
              "    </tr>\n",
              "    <tr>\n",
              "      <th>...</th>\n",
              "      <td>...</td>\n",
              "      <td>...</td>\n",
              "      <td>...</td>\n",
              "      <td>...</td>\n",
              "      <td>...</td>\n",
              "      <td>...</td>\n",
              "      <td>...</td>\n",
              "      <td>...</td>\n",
              "      <td>...</td>\n",
              "    </tr>\n",
              "    <tr>\n",
              "      <th>291554</th>\n",
              "      <td>NaN</td>\n",
              "      <td>196</td>\n",
              "      <td>Certo e Duvidoso (feat. Gaab) - Ao Vivo</td>\n",
              "      <td>Marcos &amp; Belutti</td>\n",
              "      <td>122141.0</td>\n",
              "      <td>NaN</td>\n",
              "      <td>2020-12-31</td>\n",
              "      <td>NaN</td>\n",
              "      <td>NaN</td>\n",
              "    </tr>\n",
              "    <tr>\n",
              "      <th>291555</th>\n",
              "      <td>NaN</td>\n",
              "      <td>197</td>\n",
              "      <td>Hoje É Rave</td>\n",
              "      <td>Bárbara Labres</td>\n",
              "      <td>121951.0</td>\n",
              "      <td>NaN</td>\n",
              "      <td>2020-12-31</td>\n",
              "      <td>NaN</td>\n",
              "      <td>NaN</td>\n",
              "    </tr>\n",
              "    <tr>\n",
              "      <th>291556</th>\n",
              "      <td>NaN</td>\n",
              "      <td>198</td>\n",
              "      <td>Cerveja De Garrafa (Fumaça Que Eu Faço) - Ao Vivo</td>\n",
              "      <td>Atitude 67</td>\n",
              "      <td>121919.0</td>\n",
              "      <td>NaN</td>\n",
              "      <td>2020-12-31</td>\n",
              "      <td>NaN</td>\n",
              "      <td>NaN</td>\n",
              "    </tr>\n",
              "    <tr>\n",
              "      <th>291557</th>\n",
              "      <td>NaN</td>\n",
              "      <td>199</td>\n",
              "      <td>Fatalmente / Separação / Temporal - Ao Vivo</td>\n",
              "      <td>Grupo Menos É Mais</td>\n",
              "      <td>121665.0</td>\n",
              "      <td>NaN</td>\n",
              "      <td>2020-12-31</td>\n",
              "      <td>NaN</td>\n",
              "      <td>NaN</td>\n",
              "    </tr>\n",
              "    <tr>\n",
              "      <th>291558</th>\n",
              "      <td>NaN</td>\n",
              "      <td>200</td>\n",
              "      <td>Nem de Graça / Saudade Arregaça - Ao Vivo</td>\n",
              "      <td>Pixote</td>\n",
              "      <td>121522.0</td>\n",
              "      <td>NaN</td>\n",
              "      <td>2020-12-31</td>\n",
              "      <td>NaN</td>\n",
              "      <td>NaN</td>\n",
              "    </tr>\n",
              "  </tbody>\n",
              "</table>\n",
              "<p>291559 rows × 9 columns</p>\n",
              "</div>\n",
              "      <button class=\"colab-df-convert\" onclick=\"convertToInteractive('df-9c73914f-bdc3-4cce-84ab-d9586d7009b6')\"\n",
              "              title=\"Convert this dataframe to an interactive table.\"\n",
              "              style=\"display:none;\">\n",
              "        \n",
              "  <svg xmlns=\"http://www.w3.org/2000/svg\" height=\"24px\"viewBox=\"0 0 24 24\"\n",
              "       width=\"24px\">\n",
              "    <path d=\"M0 0h24v24H0V0z\" fill=\"none\"/>\n",
              "    <path d=\"M18.56 5.44l.94 2.06.94-2.06 2.06-.94-2.06-.94-.94-2.06-.94 2.06-2.06.94zm-11 1L8.5 8.5l.94-2.06 2.06-.94-2.06-.94L8.5 2.5l-.94 2.06-2.06.94zm10 10l.94 2.06.94-2.06 2.06-.94-2.06-.94-.94-2.06-.94 2.06-2.06.94z\"/><path d=\"M17.41 7.96l-1.37-1.37c-.4-.4-.92-.59-1.43-.59-.52 0-1.04.2-1.43.59L10.3 9.45l-7.72 7.72c-.78.78-.78 2.05 0 2.83L4 21.41c.39.39.9.59 1.41.59.51 0 1.02-.2 1.41-.59l7.78-7.78 2.81-2.81c.8-.78.8-2.07 0-2.86zM5.41 20L4 18.59l7.72-7.72 1.47 1.35L5.41 20z\"/>\n",
              "  </svg>\n",
              "      </button>\n",
              "      \n",
              "  <style>\n",
              "    .colab-df-container {\n",
              "      display:flex;\n",
              "      flex-wrap:wrap;\n",
              "      gap: 12px;\n",
              "    }\n",
              "\n",
              "    .colab-df-convert {\n",
              "      background-color: #E8F0FE;\n",
              "      border: none;\n",
              "      border-radius: 50%;\n",
              "      cursor: pointer;\n",
              "      display: none;\n",
              "      fill: #1967D2;\n",
              "      height: 32px;\n",
              "      padding: 0 0 0 0;\n",
              "      width: 32px;\n",
              "    }\n",
              "\n",
              "    .colab-df-convert:hover {\n",
              "      background-color: #E2EBFA;\n",
              "      box-shadow: 0px 1px 2px rgba(60, 64, 67, 0.3), 0px 1px 3px 1px rgba(60, 64, 67, 0.15);\n",
              "      fill: #174EA6;\n",
              "    }\n",
              "\n",
              "    [theme=dark] .colab-df-convert {\n",
              "      background-color: #3B4455;\n",
              "      fill: #D2E3FC;\n",
              "    }\n",
              "\n",
              "    [theme=dark] .colab-df-convert:hover {\n",
              "      background-color: #434B5C;\n",
              "      box-shadow: 0px 1px 3px 1px rgba(0, 0, 0, 0.15);\n",
              "      filter: drop-shadow(0px 1px 2px rgba(0, 0, 0, 0.3));\n",
              "      fill: #FFFFFF;\n",
              "    }\n",
              "  </style>\n",
              "\n",
              "      <script>\n",
              "        const buttonEl =\n",
              "          document.querySelector('#df-9c73914f-bdc3-4cce-84ab-d9586d7009b6 button.colab-df-convert');\n",
              "        buttonEl.style.display =\n",
              "          google.colab.kernel.accessAllowed ? 'block' : 'none';\n",
              "\n",
              "        async function convertToInteractive(key) {\n",
              "          const element = document.querySelector('#df-9c73914f-bdc3-4cce-84ab-d9586d7009b6');\n",
              "          const dataTable =\n",
              "            await google.colab.kernel.invokeFunction('convertToInteractive',\n",
              "                                                     [key], {});\n",
              "          if (!dataTable) return;\n",
              "\n",
              "          const docLinkHtml = 'Like what you see? Visit the ' +\n",
              "            '<a target=\"_blank\" href=https://colab.research.google.com/notebooks/data_table.ipynb>data table notebook</a>'\n",
              "            + ' to learn more about interactive tables.';\n",
              "          element.innerHTML = '';\n",
              "          dataTable['output_type'] = 'display_data';\n",
              "          await google.colab.output.renderOutput(dataTable, element);\n",
              "          const docLink = document.createElement('div');\n",
              "          docLink.innerHTML = docLinkHtml;\n",
              "          element.appendChild(docLink);\n",
              "        }\n",
              "      </script>\n",
              "    </div>\n",
              "  </div>\n",
              "  "
            ],
            "text/plain": [
              "        Unnamed: 0 Position  ... data_chart_int                track_id\n",
              "0              0.0        1  ...     20170101.0  0EPxmvsG1BY5td4aTOkWBF\n",
              "1              1.0        2  ...     20170101.0  1a5Yu5L18qNxVhXx38njON\n",
              "2              2.0        3  ...     20170101.0  2wFnRPjuqwNySFiK0Qfg8L\n",
              "3              3.0        4  ...     20170101.0  45wqPwIH4A5cr2IyyD4WKf\n",
              "4              4.0        5  ...     20170101.0  6zCqeUUqLb2CapBmVwAHll\n",
              "...            ...      ...  ...            ...                     ...\n",
              "291554         NaN      196  ...            NaN                     NaN\n",
              "291555         NaN      197  ...            NaN                     NaN\n",
              "291556         NaN      198  ...            NaN                     NaN\n",
              "291557         NaN      199  ...            NaN                     NaN\n",
              "291558         NaN      200  ...            NaN                     NaN\n",
              "\n",
              "[291559 rows x 9 columns]"
            ]
          },
          "metadata": {},
          "execution_count": 3
        }
      ]
    },
    {
      "cell_type": "code",
      "metadata": {
        "id": "DYJgbT9zVZjL",
        "colab": {
          "base_uri": "https://localhost:8080/",
          "height": 424
        },
        "outputId": "1b3bc508-6d0e-464a-91ff-cd7aa53d0ba3"
      },
      "source": [
        "#Criando uma nova coluna para o ano\n",
        "new_df = df.data_chart.str.split(\"-\", n=3, expand=True)[0] \n",
        "serie = pd.Series(new_df)\n",
        "serie.name = 'year'\n",
        "serie = pd.to_numeric(serie)\n",
        "\n",
        "#Criando coluna para o dia da semana\n",
        "dia_semana = df.data_chart\n",
        "lista_dia_semana = [datetime.strptime(i, '%Y-%m-%d').date() for i in dia_semana]\n",
        "dia_semana_ok = [str(i.weekday()) for i in lista_dia_semana]\n",
        "df['weekday'] = dia_semana_ok\n",
        "df.weekday.replace(['0', '1', '2', '3', '4', '5', '6'], ['Segunda', 'Terça', 'Quarta', 'Quinta', 'Sexta', 'Sábado', 'Domingo'], inplace=True)\n",
        "\n",
        "#Criando a coluna para o mês\n",
        "new_df2 = df.data_chart.str.split(\"-\", n=3, expand=True)[1] \n",
        "mes_ok = [str(i) for i in new_df2]\n",
        "df['month'] = mes_ok\n",
        "df.month.replace(['01', '02', '03', '04', '05', '06', '07', '08', '09', '10', '11', '12'], ['Janeiro', 'Fevereiro', 'Março', 'Abril', 'Maio', 'Junho', 'Julho', 'Agosto', 'Setembro', 'Outubro', 'Novembro', 'Dezembro'], inplace=True)\n",
        "\n",
        "\n",
        "#Retirando colunas desnecessárias para a análise do data_frame\n",
        "df.drop(columns=['data_chart_int', 'track_id', 'URL', 'Unnamed: 0'], inplace=True)\n",
        "df\n",
        "\n",
        "df.Position = pd.to_numeric(df.Position)\n",
        "\n",
        "#Criando o data_frame final\n",
        "df_ok = pd.concat([df, serie], axis=1)\n",
        "df_ok\n"
      ],
      "execution_count": null,
      "outputs": [
        {
          "output_type": "execute_result",
          "data": {
            "text/html": [
              "\n",
              "  <div id=\"df-aba183b8-9c8b-41bd-95ed-1d3e4b542352\">\n",
              "    <div class=\"colab-df-container\">\n",
              "      <div>\n",
              "<style scoped>\n",
              "    .dataframe tbody tr th:only-of-type {\n",
              "        vertical-align: middle;\n",
              "    }\n",
              "\n",
              "    .dataframe tbody tr th {\n",
              "        vertical-align: top;\n",
              "    }\n",
              "\n",
              "    .dataframe thead th {\n",
              "        text-align: right;\n",
              "    }\n",
              "</style>\n",
              "<table border=\"1\" class=\"dataframe\">\n",
              "  <thead>\n",
              "    <tr style=\"text-align: right;\">\n",
              "      <th></th>\n",
              "      <th>Position</th>\n",
              "      <th>Track Name</th>\n",
              "      <th>Artist</th>\n",
              "      <th>Streams</th>\n",
              "      <th>data_chart</th>\n",
              "      <th>weekday</th>\n",
              "      <th>month</th>\n",
              "      <th>year</th>\n",
              "    </tr>\n",
              "  </thead>\n",
              "  <tbody>\n",
              "    <tr>\n",
              "      <th>0</th>\n",
              "      <td>1.0</td>\n",
              "      <td>Deu Onda</td>\n",
              "      <td>MC G15</td>\n",
              "      <td>612271.0</td>\n",
              "      <td>2017-01-01</td>\n",
              "      <td>Domingo</td>\n",
              "      <td>Janeiro</td>\n",
              "      <td>2017</td>\n",
              "    </tr>\n",
              "    <tr>\n",
              "      <th>1</th>\n",
              "      <td>2.0</td>\n",
              "      <td>Hear Me Now</td>\n",
              "      <td>Alok</td>\n",
              "      <td>269574.0</td>\n",
              "      <td>2017-01-01</td>\n",
              "      <td>Domingo</td>\n",
              "      <td>Janeiro</td>\n",
              "      <td>2017</td>\n",
              "    </tr>\n",
              "    <tr>\n",
              "      <th>2</th>\n",
              "      <td>3.0</td>\n",
              "      <td>10% - Ao Vivo</td>\n",
              "      <td>Maiara &amp; Maraisa</td>\n",
              "      <td>228307.0</td>\n",
              "      <td>2017-01-01</td>\n",
              "      <td>Domingo</td>\n",
              "      <td>Janeiro</td>\n",
              "      <td>2017</td>\n",
              "    </tr>\n",
              "    <tr>\n",
              "      <th>3</th>\n",
              "      <td>4.0</td>\n",
              "      <td>Eu Sei de Cor - Ao Vivo | Acústico</td>\n",
              "      <td>Marília Mendonça</td>\n",
              "      <td>217394.0</td>\n",
              "      <td>2017-01-01</td>\n",
              "      <td>Domingo</td>\n",
              "      <td>Janeiro</td>\n",
              "      <td>2017</td>\n",
              "    </tr>\n",
              "    <tr>\n",
              "      <th>4</th>\n",
              "      <td>5.0</td>\n",
              "      <td>Meu Coração Deu PT - Ao Vivo</td>\n",
              "      <td>Wesley Safadão</td>\n",
              "      <td>214171.0</td>\n",
              "      <td>2017-01-01</td>\n",
              "      <td>Domingo</td>\n",
              "      <td>Janeiro</td>\n",
              "      <td>2017</td>\n",
              "    </tr>\n",
              "    <tr>\n",
              "      <th>...</th>\n",
              "      <td>...</td>\n",
              "      <td>...</td>\n",
              "      <td>...</td>\n",
              "      <td>...</td>\n",
              "      <td>...</td>\n",
              "      <td>...</td>\n",
              "      <td>...</td>\n",
              "      <td>...</td>\n",
              "    </tr>\n",
              "    <tr>\n",
              "      <th>291554</th>\n",
              "      <td>196.0</td>\n",
              "      <td>Certo e Duvidoso (feat. Gaab) - Ao Vivo</td>\n",
              "      <td>Marcos &amp; Belutti</td>\n",
              "      <td>122141.0</td>\n",
              "      <td>2020-12-31</td>\n",
              "      <td>Quinta</td>\n",
              "      <td>Dezembro</td>\n",
              "      <td>2020</td>\n",
              "    </tr>\n",
              "    <tr>\n",
              "      <th>291555</th>\n",
              "      <td>197.0</td>\n",
              "      <td>Hoje É Rave</td>\n",
              "      <td>Bárbara Labres</td>\n",
              "      <td>121951.0</td>\n",
              "      <td>2020-12-31</td>\n",
              "      <td>Quinta</td>\n",
              "      <td>Dezembro</td>\n",
              "      <td>2020</td>\n",
              "    </tr>\n",
              "    <tr>\n",
              "      <th>291556</th>\n",
              "      <td>198.0</td>\n",
              "      <td>Cerveja De Garrafa (Fumaça Que Eu Faço) - Ao Vivo</td>\n",
              "      <td>Atitude 67</td>\n",
              "      <td>121919.0</td>\n",
              "      <td>2020-12-31</td>\n",
              "      <td>Quinta</td>\n",
              "      <td>Dezembro</td>\n",
              "      <td>2020</td>\n",
              "    </tr>\n",
              "    <tr>\n",
              "      <th>291557</th>\n",
              "      <td>199.0</td>\n",
              "      <td>Fatalmente / Separação / Temporal - Ao Vivo</td>\n",
              "      <td>Grupo Menos É Mais</td>\n",
              "      <td>121665.0</td>\n",
              "      <td>2020-12-31</td>\n",
              "      <td>Quinta</td>\n",
              "      <td>Dezembro</td>\n",
              "      <td>2020</td>\n",
              "    </tr>\n",
              "    <tr>\n",
              "      <th>291558</th>\n",
              "      <td>200.0</td>\n",
              "      <td>Nem de Graça / Saudade Arregaça - Ao Vivo</td>\n",
              "      <td>Pixote</td>\n",
              "      <td>121522.0</td>\n",
              "      <td>2020-12-31</td>\n",
              "      <td>Quinta</td>\n",
              "      <td>Dezembro</td>\n",
              "      <td>2020</td>\n",
              "    </tr>\n",
              "  </tbody>\n",
              "</table>\n",
              "<p>291559 rows × 8 columns</p>\n",
              "</div>\n",
              "      <button class=\"colab-df-convert\" onclick=\"convertToInteractive('df-aba183b8-9c8b-41bd-95ed-1d3e4b542352')\"\n",
              "              title=\"Convert this dataframe to an interactive table.\"\n",
              "              style=\"display:none;\">\n",
              "        \n",
              "  <svg xmlns=\"http://www.w3.org/2000/svg\" height=\"24px\"viewBox=\"0 0 24 24\"\n",
              "       width=\"24px\">\n",
              "    <path d=\"M0 0h24v24H0V0z\" fill=\"none\"/>\n",
              "    <path d=\"M18.56 5.44l.94 2.06.94-2.06 2.06-.94-2.06-.94-.94-2.06-.94 2.06-2.06.94zm-11 1L8.5 8.5l.94-2.06 2.06-.94-2.06-.94L8.5 2.5l-.94 2.06-2.06.94zm10 10l.94 2.06.94-2.06 2.06-.94-2.06-.94-.94-2.06-.94 2.06-2.06.94z\"/><path d=\"M17.41 7.96l-1.37-1.37c-.4-.4-.92-.59-1.43-.59-.52 0-1.04.2-1.43.59L10.3 9.45l-7.72 7.72c-.78.78-.78 2.05 0 2.83L4 21.41c.39.39.9.59 1.41.59.51 0 1.02-.2 1.41-.59l7.78-7.78 2.81-2.81c.8-.78.8-2.07 0-2.86zM5.41 20L4 18.59l7.72-7.72 1.47 1.35L5.41 20z\"/>\n",
              "  </svg>\n",
              "      </button>\n",
              "      \n",
              "  <style>\n",
              "    .colab-df-container {\n",
              "      display:flex;\n",
              "      flex-wrap:wrap;\n",
              "      gap: 12px;\n",
              "    }\n",
              "\n",
              "    .colab-df-convert {\n",
              "      background-color: #E8F0FE;\n",
              "      border: none;\n",
              "      border-radius: 50%;\n",
              "      cursor: pointer;\n",
              "      display: none;\n",
              "      fill: #1967D2;\n",
              "      height: 32px;\n",
              "      padding: 0 0 0 0;\n",
              "      width: 32px;\n",
              "    }\n",
              "\n",
              "    .colab-df-convert:hover {\n",
              "      background-color: #E2EBFA;\n",
              "      box-shadow: 0px 1px 2px rgba(60, 64, 67, 0.3), 0px 1px 3px 1px rgba(60, 64, 67, 0.15);\n",
              "      fill: #174EA6;\n",
              "    }\n",
              "\n",
              "    [theme=dark] .colab-df-convert {\n",
              "      background-color: #3B4455;\n",
              "      fill: #D2E3FC;\n",
              "    }\n",
              "\n",
              "    [theme=dark] .colab-df-convert:hover {\n",
              "      background-color: #434B5C;\n",
              "      box-shadow: 0px 1px 3px 1px rgba(0, 0, 0, 0.15);\n",
              "      filter: drop-shadow(0px 1px 2px rgba(0, 0, 0, 0.3));\n",
              "      fill: #FFFFFF;\n",
              "    }\n",
              "  </style>\n",
              "\n",
              "      <script>\n",
              "        const buttonEl =\n",
              "          document.querySelector('#df-aba183b8-9c8b-41bd-95ed-1d3e4b542352 button.colab-df-convert');\n",
              "        buttonEl.style.display =\n",
              "          google.colab.kernel.accessAllowed ? 'block' : 'none';\n",
              "\n",
              "        async function convertToInteractive(key) {\n",
              "          const element = document.querySelector('#df-aba183b8-9c8b-41bd-95ed-1d3e4b542352');\n",
              "          const dataTable =\n",
              "            await google.colab.kernel.invokeFunction('convertToInteractive',\n",
              "                                                     [key], {});\n",
              "          if (!dataTable) return;\n",
              "\n",
              "          const docLinkHtml = 'Like what you see? Visit the ' +\n",
              "            '<a target=\"_blank\" href=https://colab.research.google.com/notebooks/data_table.ipynb>data table notebook</a>'\n",
              "            + ' to learn more about interactive tables.';\n",
              "          element.innerHTML = '';\n",
              "          dataTable['output_type'] = 'display_data';\n",
              "          await google.colab.output.renderOutput(dataTable, element);\n",
              "          const docLink = document.createElement('div');\n",
              "          docLink.innerHTML = docLinkHtml;\n",
              "          element.appendChild(docLink);\n",
              "        }\n",
              "      </script>\n",
              "    </div>\n",
              "  </div>\n",
              "  "
            ],
            "text/plain": [
              "        Position  ...  year\n",
              "0            1.0  ...  2017\n",
              "1            2.0  ...  2017\n",
              "2            3.0  ...  2017\n",
              "3            4.0  ...  2017\n",
              "4            5.0  ...  2017\n",
              "...          ...  ...   ...\n",
              "291554     196.0  ...  2020\n",
              "291555     197.0  ...  2020\n",
              "291556     198.0  ...  2020\n",
              "291557     199.0  ...  2020\n",
              "291558     200.0  ...  2020\n",
              "\n",
              "[291559 rows x 8 columns]"
            ]
          },
          "metadata": {},
          "execution_count": 4
        }
      ]
    },
    {
      "cell_type": "code",
      "metadata": {
        "id": "hrsscdLgomxK",
        "colab": {
          "base_uri": "https://localhost:8080/",
          "height": 206
        },
        "outputId": "f658a65d-cdd8-4a18-c266-1aae24967cb5"
      },
      "source": [
        "#Criando um data_frame para cada ano\n",
        "df_2017 = df_ok[df_ok.year == 2017]\n",
        "df_2018 = df_ok[df_ok.year == 2018]\n",
        "df_2019 = df_ok[df_ok.year == 2019]\n",
        "df_2020 = df_ok[df_ok.year == 2020]\n",
        "\n",
        "df_2020.head()"
      ],
      "execution_count": null,
      "outputs": [
        {
          "output_type": "execute_result",
          "data": {
            "text/html": [
              "\n",
              "  <div id=\"df-81b9f81c-abd7-4aa9-a22b-5f012af38966\">\n",
              "    <div class=\"colab-df-container\">\n",
              "      <div>\n",
              "<style scoped>\n",
              "    .dataframe tbody tr th:only-of-type {\n",
              "        vertical-align: middle;\n",
              "    }\n",
              "\n",
              "    .dataframe tbody tr th {\n",
              "        vertical-align: top;\n",
              "    }\n",
              "\n",
              "    .dataframe thead th {\n",
              "        text-align: right;\n",
              "    }\n",
              "</style>\n",
              "<table border=\"1\" class=\"dataframe\">\n",
              "  <thead>\n",
              "    <tr style=\"text-align: right;\">\n",
              "      <th></th>\n",
              "      <th>Position</th>\n",
              "      <th>Track Name</th>\n",
              "      <th>Artist</th>\n",
              "      <th>Streams</th>\n",
              "      <th>data_chart</th>\n",
              "      <th>weekday</th>\n",
              "      <th>month</th>\n",
              "      <th>year</th>\n",
              "    </tr>\n",
              "  </thead>\n",
              "  <tbody>\n",
              "    <tr>\n",
              "      <th>218380</th>\n",
              "      <td>1.0</td>\n",
              "      <td>Liberdade Provisória</td>\n",
              "      <td>Henrique &amp; Juliano</td>\n",
              "      <td>971699.0</td>\n",
              "      <td>2020-01-01</td>\n",
              "      <td>Quarta</td>\n",
              "      <td>Janeiro</td>\n",
              "      <td>2020</td>\n",
              "    </tr>\n",
              "    <tr>\n",
              "      <th>218381</th>\n",
              "      <td>2.0</td>\n",
              "      <td>Combatchy (feat. MC Rebecca)</td>\n",
              "      <td>Anitta</td>\n",
              "      <td>788984.0</td>\n",
              "      <td>2020-01-01</td>\n",
              "      <td>Quarta</td>\n",
              "      <td>Janeiro</td>\n",
              "      <td>2020</td>\n",
              "    </tr>\n",
              "    <tr>\n",
              "      <th>218382</th>\n",
              "      <td>3.0</td>\n",
              "      <td>SENTADÃO</td>\n",
              "      <td>PEDRO SAMPAIO</td>\n",
              "      <td>785670.0</td>\n",
              "      <td>2020-01-01</td>\n",
              "      <td>Quarta</td>\n",
              "      <td>Janeiro</td>\n",
              "      <td>2020</td>\n",
              "    </tr>\n",
              "    <tr>\n",
              "      <th>218383</th>\n",
              "      <td>4.0</td>\n",
              "      <td>Supera - Ao Vivo</td>\n",
              "      <td>Marília Mendonça</td>\n",
              "      <td>747509.0</td>\n",
              "      <td>2020-01-01</td>\n",
              "      <td>Quarta</td>\n",
              "      <td>Janeiro</td>\n",
              "      <td>2020</td>\n",
              "    </tr>\n",
              "    <tr>\n",
              "      <th>218384</th>\n",
              "      <td>5.0</td>\n",
              "      <td>Cheirosa - Ao Vivo</td>\n",
              "      <td>Jorge &amp; Mateus</td>\n",
              "      <td>741082.0</td>\n",
              "      <td>2020-01-01</td>\n",
              "      <td>Quarta</td>\n",
              "      <td>Janeiro</td>\n",
              "      <td>2020</td>\n",
              "    </tr>\n",
              "  </tbody>\n",
              "</table>\n",
              "</div>\n",
              "      <button class=\"colab-df-convert\" onclick=\"convertToInteractive('df-81b9f81c-abd7-4aa9-a22b-5f012af38966')\"\n",
              "              title=\"Convert this dataframe to an interactive table.\"\n",
              "              style=\"display:none;\">\n",
              "        \n",
              "  <svg xmlns=\"http://www.w3.org/2000/svg\" height=\"24px\"viewBox=\"0 0 24 24\"\n",
              "       width=\"24px\">\n",
              "    <path d=\"M0 0h24v24H0V0z\" fill=\"none\"/>\n",
              "    <path d=\"M18.56 5.44l.94 2.06.94-2.06 2.06-.94-2.06-.94-.94-2.06-.94 2.06-2.06.94zm-11 1L8.5 8.5l.94-2.06 2.06-.94-2.06-.94L8.5 2.5l-.94 2.06-2.06.94zm10 10l.94 2.06.94-2.06 2.06-.94-2.06-.94-.94-2.06-.94 2.06-2.06.94z\"/><path d=\"M17.41 7.96l-1.37-1.37c-.4-.4-.92-.59-1.43-.59-.52 0-1.04.2-1.43.59L10.3 9.45l-7.72 7.72c-.78.78-.78 2.05 0 2.83L4 21.41c.39.39.9.59 1.41.59.51 0 1.02-.2 1.41-.59l7.78-7.78 2.81-2.81c.8-.78.8-2.07 0-2.86zM5.41 20L4 18.59l7.72-7.72 1.47 1.35L5.41 20z\"/>\n",
              "  </svg>\n",
              "      </button>\n",
              "      \n",
              "  <style>\n",
              "    .colab-df-container {\n",
              "      display:flex;\n",
              "      flex-wrap:wrap;\n",
              "      gap: 12px;\n",
              "    }\n",
              "\n",
              "    .colab-df-convert {\n",
              "      background-color: #E8F0FE;\n",
              "      border: none;\n",
              "      border-radius: 50%;\n",
              "      cursor: pointer;\n",
              "      display: none;\n",
              "      fill: #1967D2;\n",
              "      height: 32px;\n",
              "      padding: 0 0 0 0;\n",
              "      width: 32px;\n",
              "    }\n",
              "\n",
              "    .colab-df-convert:hover {\n",
              "      background-color: #E2EBFA;\n",
              "      box-shadow: 0px 1px 2px rgba(60, 64, 67, 0.3), 0px 1px 3px 1px rgba(60, 64, 67, 0.15);\n",
              "      fill: #174EA6;\n",
              "    }\n",
              "\n",
              "    [theme=dark] .colab-df-convert {\n",
              "      background-color: #3B4455;\n",
              "      fill: #D2E3FC;\n",
              "    }\n",
              "\n",
              "    [theme=dark] .colab-df-convert:hover {\n",
              "      background-color: #434B5C;\n",
              "      box-shadow: 0px 1px 3px 1px rgba(0, 0, 0, 0.15);\n",
              "      filter: drop-shadow(0px 1px 2px rgba(0, 0, 0, 0.3));\n",
              "      fill: #FFFFFF;\n",
              "    }\n",
              "  </style>\n",
              "\n",
              "      <script>\n",
              "        const buttonEl =\n",
              "          document.querySelector('#df-81b9f81c-abd7-4aa9-a22b-5f012af38966 button.colab-df-convert');\n",
              "        buttonEl.style.display =\n",
              "          google.colab.kernel.accessAllowed ? 'block' : 'none';\n",
              "\n",
              "        async function convertToInteractive(key) {\n",
              "          const element = document.querySelector('#df-81b9f81c-abd7-4aa9-a22b-5f012af38966');\n",
              "          const dataTable =\n",
              "            await google.colab.kernel.invokeFunction('convertToInteractive',\n",
              "                                                     [key], {});\n",
              "          if (!dataTable) return;\n",
              "\n",
              "          const docLinkHtml = 'Like what you see? Visit the ' +\n",
              "            '<a target=\"_blank\" href=https://colab.research.google.com/notebooks/data_table.ipynb>data table notebook</a>'\n",
              "            + ' to learn more about interactive tables.';\n",
              "          element.innerHTML = '';\n",
              "          dataTable['output_type'] = 'display_data';\n",
              "          await google.colab.output.renderOutput(dataTable, element);\n",
              "          const docLink = document.createElement('div');\n",
              "          docLink.innerHTML = docLinkHtml;\n",
              "          element.appendChild(docLink);\n",
              "        }\n",
              "      </script>\n",
              "    </div>\n",
              "  </div>\n",
              "  "
            ],
            "text/plain": [
              "        Position                    Track Name  ...    month  year\n",
              "218380       1.0          Liberdade Provisória  ...  Janeiro  2020\n",
              "218381       2.0  Combatchy (feat. MC Rebecca)  ...  Janeiro  2020\n",
              "218382       3.0                      SENTADÃO  ...  Janeiro  2020\n",
              "218383       4.0              Supera - Ao Vivo  ...  Janeiro  2020\n",
              "218384       5.0            Cheirosa - Ao Vivo  ...  Janeiro  2020\n",
              "\n",
              "[5 rows x 8 columns]"
            ]
          },
          "metadata": {},
          "execution_count": 5
        }
      ]
    },
    {
      "cell_type": "markdown",
      "metadata": {
        "id": "cMQxCxnSaiiA"
      },
      "source": [
        "### **Passo 2**: músicas mais ouvidas por ano"
      ]
    },
    {
      "cell_type": "markdown",
      "metadata": {
        "id": "LdNsBcy3xIwR"
      },
      "source": [
        "#### Ano de 2017"
      ]
    },
    {
      "cell_type": "code",
      "metadata": {
        "id": "S-xVkWxRafb5"
      },
      "source": [
        "musics = df_2017.groupby('Track Name').count()\n",
        "m = musics.sort_values(by=['Position'], ascending=False)\n",
        "m.head(10)['Position']\n"
      ],
      "execution_count": null,
      "outputs": []
    },
    {
      "cell_type": "markdown",
      "metadata": {
        "id": "QWcvsQJAxMWI"
      },
      "source": [
        "#### Ano de 2018"
      ]
    },
    {
      "cell_type": "code",
      "metadata": {
        "id": "AJE4CCL2xRL2"
      },
      "source": [
        "musics = df_2018.groupby('Track Name').count()\n",
        "m = musics.sort_values(by=['Position'], ascending=False)\n",
        "m.head(10)['Position']"
      ],
      "execution_count": null,
      "outputs": []
    },
    {
      "cell_type": "markdown",
      "metadata": {
        "id": "mSrWoukoxb6F"
      },
      "source": [
        "#### Ano de 2019"
      ]
    },
    {
      "cell_type": "code",
      "metadata": {
        "id": "o7rh-itbxefh"
      },
      "source": [
        "musics = df_2019.groupby('Track Name').count()\n",
        "m = musics.sort_values(by=['Position'], ascending=False)\n",
        "m.head(10)['Position']"
      ],
      "execution_count": null,
      "outputs": []
    },
    {
      "cell_type": "markdown",
      "metadata": {
        "id": "a71IVLP4xk1T"
      },
      "source": [
        "#### Ano de 2020"
      ]
    },
    {
      "cell_type": "code",
      "metadata": {
        "id": "07qu845iTzrb"
      },
      "source": [
        "musics = df_2020.groupby('Track Name').count()\n",
        "m = musics.sort_values(by=['Position'], ascending=False)\n",
        "m.head(10)['Position']"
      ],
      "execution_count": null,
      "outputs": []
    },
    {
      "cell_type": "markdown",
      "metadata": {
        "id": "bZc7OZHhanbD"
      },
      "source": [
        "### **Passo 3**: cantores mais ouvidos por ano"
      ]
    },
    {
      "cell_type": "markdown",
      "metadata": {
        "id": "lVDo9n0gxy5F"
      },
      "source": [
        "#### Ano de 2017"
      ]
    },
    {
      "cell_type": "code",
      "metadata": {
        "id": "z3eam8lJaqvG"
      },
      "source": [
        "artists = df_2017.groupby('Artist').count()\n",
        "a1 = artists.sort_values(by=['Position'], ascending=False)\n",
        "cantores_2017 = a1.head(10)['Position']\n",
        "cantores_2017.name = '2017'\n",
        "cantores_2017\n"
      ],
      "execution_count": null,
      "outputs": []
    },
    {
      "cell_type": "markdown",
      "metadata": {
        "id": "DUdd7ZWcyIup"
      },
      "source": [
        "#### Ano de 2018"
      ]
    },
    {
      "cell_type": "code",
      "metadata": {
        "id": "Bjul-jT5yM14"
      },
      "source": [
        "artists = df_2018.groupby('Artist').count()\n",
        "a2 = artists.sort_values(by=['Position'], ascending=False)\n",
        "cantores_2018 = a2.head(10)['Position']\n",
        "cantores_2018.name = '2018'\n",
        "cantores_2018"
      ],
      "execution_count": null,
      "outputs": []
    },
    {
      "cell_type": "markdown",
      "metadata": {
        "id": "ZEbSaXuLySmJ"
      },
      "source": [
        "#### Ano de 2019"
      ]
    },
    {
      "cell_type": "code",
      "metadata": {
        "id": "m-fGi2T5yUsq"
      },
      "source": [
        "artists = df_2019.groupby('Artist').count()\n",
        "a3 = artists.sort_values(by=['Position'], ascending=False)\n",
        "cantores_2019 = a3.head(10)['Position']\n",
        "cantores_2019.name = '2019'\n",
        "cantores_2019\n",
        "\n"
      ],
      "execution_count": null,
      "outputs": []
    },
    {
      "cell_type": "markdown",
      "metadata": {
        "id": "VLAREwq-yh67"
      },
      "source": [
        "#### Ano de 2020"
      ]
    },
    {
      "cell_type": "code",
      "metadata": {
        "id": "cHMmFXyvyle-"
      },
      "source": [
        "artists = df_2020.groupby('Artist').count()\n",
        "a4 = artists.sort_values(by=['Position'], ascending=False)\n",
        "cantores_2020 = a4.head(10)['Position']\n",
        "cantores_2020.name = '2020'\n",
        "cantores_2020\n",
        "\n"
      ],
      "execution_count": null,
      "outputs": []
    },
    {
      "cell_type": "markdown",
      "metadata": {
        "id": "8FEgN7C-audn"
      },
      "source": [
        "### **Passo 4**: média de streams por ano"
      ]
    },
    {
      "cell_type": "markdown",
      "metadata": {
        "id": "Dvx0GqdM8cEo"
      },
      "source": [
        "#### Ano de 2017"
      ]
    },
    {
      "cell_type": "code",
      "metadata": {
        "id": "rHVk5yeZayUz"
      },
      "source": [
        "#100 maiores streams de 2017\n",
        "d_stream_2017 = df_2017.sort_values(by=['Streams'], ascending=False)\n",
        "d_stream_2017.head(100)"
      ],
      "execution_count": null,
      "outputs": []
    },
    {
      "cell_type": "code",
      "metadata": {
        "id": "Kgva1armBzAp"
      },
      "source": [
        "#Quantidade total de streams em 2017\n",
        "total_streams_2017 = d_stream_2017['Streams'].sum()\n",
        "total_streams_2017_formatado = \"{:,}\".format(int(total_streams_2017)).replace(\",\", \"X\").replace(\".\", \",\").replace(\"X\", \".\")\n",
        "print(f'{total_streams_2017_formatado} streams em 2017')"
      ],
      "execution_count": null,
      "outputs": []
    },
    {
      "cell_type": "code",
      "metadata": {
        "id": "Ze5xY0mECGTh"
      },
      "source": [
        "#Média de streams por cantor\n",
        "media_cantor_2017 = d_stream_2017.groupby('Artist')['Streams'].mean()\n",
        "print(media_cantor_2017)\n",
        "#Média de streams para os cantores no TOP 10 em 2017\n",
        "df_teste = pd.concat([media_cantor_2017, cantores_2017], axis=1)\n",
        "df_teste.dropna(inplace=True)\n",
        "df_teste = df_teste.sort_values(by=['Streams'], ascending=False)\n",
        "df_teste"
      ],
      "execution_count": null,
      "outputs": []
    },
    {
      "cell_type": "markdown",
      "metadata": {
        "id": "-4J4xGiH8e5i"
      },
      "source": [
        "#### Ano de 2018"
      ]
    },
    {
      "cell_type": "code",
      "metadata": {
        "id": "c5F790MN82PM"
      },
      "source": [
        "#100 maiores streams de 2018\n",
        "d_stream_2018 = df_2018.sort_values(by=['Streams'], ascending=False)\n",
        "d_stream_2018.head(100)"
      ],
      "execution_count": null,
      "outputs": []
    },
    {
      "cell_type": "code",
      "metadata": {
        "id": "NUoqRa-EExsk"
      },
      "source": [
        "#Quantidade total de streams em 2018\n",
        "total_streams_2018 = d_stream_2018['Streams'].sum()\n",
        "total_streams_2018_formatado = \"{:,}\".format(int(total_streams_2018)).replace(\",\", \"X\").replace(\".\", \",\").replace(\"X\", \".\")\n",
        "print(f'{total_streams_2018_formatado} streams em 2018')"
      ],
      "execution_count": null,
      "outputs": []
    },
    {
      "cell_type": "markdown",
      "metadata": {
        "id": "lJf6JkiL8iQo"
      },
      "source": [
        "#### Ano de 2019"
      ]
    },
    {
      "cell_type": "code",
      "metadata": {
        "id": "WNnW9TWh9K50"
      },
      "source": [
        "#100 maiores streams de 2019\n",
        "d_stream_2019 = df_2019.sort_values(by=['Streams'], ascending=False)\n",
        "d_stream_2019.head(100)"
      ],
      "execution_count": null,
      "outputs": []
    },
    {
      "cell_type": "code",
      "metadata": {
        "id": "xOAiHA7iFgtN"
      },
      "source": [
        "#Quantidade total de streams em 2019\n",
        "total_streams_2019 = d_stream_2019['Streams'].sum()\n",
        "total_streams_2019_formatado = \"{:,}\".format(int(total_streams_2019)).replace(\",\", \"X\").replace(\".\", \",\").replace(\"X\", \".\")\n",
        "print(f'{total_streams_2019_formatado} streams em 2019')"
      ],
      "execution_count": null,
      "outputs": []
    },
    {
      "cell_type": "markdown",
      "metadata": {
        "id": "4Zcjbs8y8kp6"
      },
      "source": [
        "#### Ano de 2020"
      ]
    },
    {
      "cell_type": "code",
      "metadata": {
        "id": "JAko_5MX9OSf"
      },
      "source": [
        "#100 maiores streams de 2020\n",
        "d_stream_2020 = df_2020.sort_values(by=['Streams'], ascending=False)\n",
        "d_stream_2020.head(100)"
      ],
      "execution_count": null,
      "outputs": []
    },
    {
      "cell_type": "code",
      "metadata": {
        "id": "OhWS5JM7F-pB"
      },
      "source": [
        "#Quantidade total de streams em 2020\n",
        "total_streams_2020 = d_stream_2020['Streams'].sum()\n",
        "total_streams_2020_formatado = \"{:,}\".format(int(total_streams_2020)).replace(\",\", \"X\").replace(\".\", \",\").replace(\"X\", \".\")\n",
        "print(f'{total_streams_2020_formatado} streams em 2020')\n",
        "#Lembrar que só tem dados até outubro de 2020 na base de dados"
      ],
      "execution_count": null,
      "outputs": []
    },
    {
      "cell_type": "markdown",
      "metadata": {
        "id": "VCUdw3sPUuW7"
      },
      "source": [
        "### **Passo 5**: streams de acordo com o dia da semana"
      ]
    },
    {
      "cell_type": "markdown",
      "metadata": {
        "id": "CAB0SZkdL8cL"
      },
      "source": [
        "#### Ano de 2017"
      ]
    },
    {
      "cell_type": "code",
      "metadata": {
        "id": "onNjYNVpU2ZV"
      },
      "source": [
        "#2017\n",
        "df_dia = df_2017.groupby('weekday')\n",
        "media_streams_semana_2017 = df_dia['Streams'].mean().sort_values()\n",
        "media_streams_semana_2017\n"
      ],
      "execution_count": null,
      "outputs": []
    },
    {
      "cell_type": "markdown",
      "metadata": {
        "id": "p1WsfVcdMAIl"
      },
      "source": [
        "#### Ano de 2018"
      ]
    },
    {
      "cell_type": "code",
      "metadata": {
        "id": "64F7at4xMCj1"
      },
      "source": [
        "#2018\n",
        "df_dia = df_2018.groupby('weekday')\n",
        "media_streams_semana_2018 = df_dia['Streams'].mean().sort_values()\n",
        "media_streams_semana_2018"
      ],
      "execution_count": null,
      "outputs": []
    },
    {
      "cell_type": "markdown",
      "metadata": {
        "id": "ugwGi55xMRqW"
      },
      "source": [
        "#### Ano de 2019"
      ]
    },
    {
      "cell_type": "code",
      "metadata": {
        "id": "CBwf7QJtMUDL"
      },
      "source": [
        "df_dia = df_2019.groupby('weekday')\n",
        "media_streams_semana_2019 = df_dia['Streams'].mean().sort_values()\n",
        "media_streams_semana_2019"
      ],
      "execution_count": null,
      "outputs": []
    },
    {
      "cell_type": "markdown",
      "metadata": {
        "id": "vJwtEIGJdaLQ"
      },
      "source": [
        "#### Ano de 2020"
      ]
    },
    {
      "cell_type": "code",
      "metadata": {
        "id": "6N7vIheSddbd"
      },
      "source": [
        "df_dia = df_2020.groupby('weekday')\n",
        "media_streams_semana_2020 = df_dia['Streams'].mean().sort_values()\n",
        "media_streams_semana_2020"
      ],
      "execution_count": null,
      "outputs": []
    },
    {
      "cell_type": "markdown",
      "metadata": {
        "id": "8g1tjNML7bFt"
      },
      "source": [
        "### **Passo 6**: Gráficos I"
      ]
    },
    {
      "cell_type": "markdown",
      "metadata": {
        "id": "vLCiKS2_G18J"
      },
      "source": [
        "#### Gráfico 1: Soma de streams por ano"
      ]
    },
    {
      "cell_type": "code",
      "metadata": {
        "id": "e6bCIEKvG8K7"
      },
      "source": [
        "import matplotlib.pyplot as plt\n",
        "\n",
        "anos = [2017, 2018, 2019, 2020]\n",
        "streams = [total_streams_2017, total_streams_2018, total_streams_2019, total_streams_2020]\n",
        "plt.title(\"Crescimento de streams no spotify por ano\")\n",
        "plt.xlabel(\"Ano\")\n",
        "plt.ylabel(\"Soma de streams em bilhão\")\n",
        "plt.bar(anos, streams, width=0.5)\n",
        "plt.show()"
      ],
      "execution_count": null,
      "outputs": []
    },
    {
      "cell_type": "markdown",
      "metadata": {
        "id": "HiJQJNyEVldu"
      },
      "source": [
        "#### Tabela 1: Colocação TOP 10 cantores entre 2017 e 2020}"
      ]
    },
    {
      "cell_type": "code",
      "metadata": {
        "id": "90iE8uCo1pQ_"
      },
      "source": [
        "a = cantores_2017.index.to_list()\n",
        "top10_1 = pd.Series(a)\n",
        "b = cantores_2018.index.to_list()\n",
        "top10_2 = pd.Series(b)\n",
        "c = cantores_2019.index.to_list()\n",
        "top10_3 = pd.Series(c)\n",
        "d = cantores_2020.index.to_list()\n",
        "top10_4 = pd.Series(d)\n",
        "teste2 = pd.concat([top10_1, top10_2, top10_3, top10_4], axis=1)\n",
        "teste2.columns = ['2017', '2018', '2019', '2020']\n",
        "teste2.index = ['1°', '2°', '3°', '4°', '5°', '6°', '7°', '8°', '9°', '10°' ]\n",
        "teste2\n",
        "\n",
        "def destaca_artista(nome_artista):\n",
        "   cor = 'blue' if nome_artista == 'Matheus & Kauan' else 'black' \n",
        "   return f'color: {cor}'\n",
        "teste2_cores = teste2.style.applymap(destaca_artista)\n",
        "teste2_cores"
      ],
      "execution_count": null,
      "outputs": []
    },
    {
      "cell_type": "markdown",
      "metadata": {
        "id": "iDjDS8EeMcD0"
      },
      "source": [
        "#### Gráfico 2: Streams por dia da semana para todos os anos"
      ]
    },
    {
      "cell_type": "code",
      "metadata": {
        "id": "YP1zbKZdMhna"
      },
      "source": [
        "eixox = ['Domingo', 'Segunda', 'Terça', 'Quarta', 'Quinta', 'Sexta', 'Sábado']\n",
        "eixoy_2017 = [media_streams_semana_2017['Domingo'], media_streams_semana_2017['Segunda'], media_streams_semana_2017['Terça'], media_streams_semana_2017['Quarta'], media_streams_semana_2017['Quinta'], media_streams_semana_2017['Sexta'], media_streams_semana_2017['Sábado']]\n",
        "eixoy_2018 = [media_streams_semana_2018['Domingo'], media_streams_semana_2018['Segunda'], media_streams_semana_2018['Terça'], media_streams_semana_2018['Quarta'], media_streams_semana_2018['Quinta'], media_streams_semana_2018['Sexta'], media_streams_semana_2018['Sábado']]\n",
        "eixoy_2019 = [media_streams_semana_2019['Domingo'], media_streams_semana_2019['Segunda'], media_streams_semana_2019['Terça'], media_streams_semana_2019['Quarta'], media_streams_semana_2019['Quinta'], media_streams_semana_2019['Sexta'], media_streams_semana_2019['Sábado']]\n",
        "eixoy_2020 = [media_streams_semana_2020['Domingo'], media_streams_semana_2020['Segunda'], media_streams_semana_2020['Terça'], media_streams_semana_2020['Quarta'], media_streams_semana_2020['Quinta'], media_streams_semana_2020['Sexta'], media_streams_semana_2020['Sábado']]\n",
        "\n",
        "plt.plot(eixox, eixoy_2017)\n",
        "plt.plot(eixox, eixoy_2018)\n",
        "plt.plot(eixox, eixoy_2019)\n",
        "plt.plot(eixox, eixoy_2020)\n",
        "plt.legend(['2017', '2018', '2019', '2020'])\n",
        "plt.title(\"Média de streams em cada dia da semana - 2017 a 2019\")\n",
        "plt.xlabel(\"Dia da semana\")\n",
        "plt.ylabel(\"Média de streams\")\n",
        "plt.show()\n",
        "\n",
        "print(\"Crescimento mais notório da quinta para a sexta\")\n",
        "c_2017 = media_streams_semana_2017['Sexta']/media_streams_semana_2017['Quinta']\n",
        "c_2018 = media_streams_semana_2018['Sexta']/media_streams_semana_2018['Quinta']\n",
        "c_2019 = media_streams_semana_2019['Sexta']/media_streams_semana_2019['Quinta']\n",
        "c_2020 = media_streams_semana_2020['Sexta']/media_streams_semana_2020['Quinta']\n",
        "print('Crescimento médio 2017: {:.2f}'.format((c_2017-1)*100)+'%')\n",
        "print('Crescimento médio 2018: {:.2f}'.format((c_2018-1)*100)+'%')\n",
        "print('Crescimento médio 2019: {:.2f}'.format((c_2019-1)*100)+'%')\n",
        "print('Crescimento médio 2020: {:.2f}'.format((c_2020-1)*100)+'%')"
      ],
      "execution_count": null,
      "outputs": []
    },
    {
      "cell_type": "markdown",
      "metadata": {
        "id": "P1iNzTfXPlXq"
      },
      "source": [
        "#### Gráfico 3: Média de streams por dia da semana para cada ano"
      ]
    },
    {
      "cell_type": "markdown",
      "metadata": {
        "id": "Rf5VUY3sQi3h"
      },
      "source": [
        "##### Ano 2017"
      ]
    },
    {
      "cell_type": "code",
      "metadata": {
        "id": "Fi-YgXrdPqmq"
      },
      "source": [
        "#Ano 2017\n",
        "plt.plot(eixox, eixoy_2017)\n",
        "plt.scatter(eixox, eixoy_2017, marker='o');\n",
        "plt.title(\"Média de streams por dia da semana em 2017\")\n",
        "plt.xlabel(\"Dia da semana\")\n",
        "plt.ylabel(\"Média de streams\")\n"
      ],
      "execution_count": null,
      "outputs": []
    },
    {
      "cell_type": "markdown",
      "metadata": {
        "id": "AQyczzEHRYzY"
      },
      "source": [
        "##### Ano de 2018"
      ]
    },
    {
      "cell_type": "code",
      "metadata": {
        "id": "_gpor3f1Rac7"
      },
      "source": [
        "#Ano 2018 \n",
        "plt.plot(eixox, eixoy_2018, color='g')\n",
        "plt.scatter(eixox, eixoy_2018, marker='o', color='g');\n",
        "plt.title(\"Média de streams por dia da semana em 2018\")\n",
        "plt.xlabel(\"Dia da semana\")\n",
        "plt.ylabel(\"Média de streams\")"
      ],
      "execution_count": null,
      "outputs": []
    },
    {
      "cell_type": "markdown",
      "metadata": {
        "id": "29WLgagORrTA"
      },
      "source": [
        "##### Ano de 2019"
      ]
    },
    {
      "cell_type": "code",
      "metadata": {
        "id": "2aqYwYs8RtUk"
      },
      "source": [
        "#Ano 2019\n",
        "plt.plot(eixox, eixoy_2019, color='r')\n",
        "plt.scatter(eixox, eixoy_2019, marker='o', color='r');\n",
        "plt.title(\"Média de streams por dia da semana em 2019\")\n",
        "plt.xlabel(\"Dia da semana\")\n",
        "plt.ylabel(\"Média de streams\")"
      ],
      "execution_count": null,
      "outputs": []
    },
    {
      "cell_type": "markdown",
      "metadata": {
        "id": "SZpvxrFUf3BT"
      },
      "source": [
        "##### Ano de 2020"
      ]
    },
    {
      "cell_type": "code",
      "metadata": {
        "id": "FPqueVXyf5je"
      },
      "source": [
        "#Ano 2020\n",
        "plt.plot(eixox, eixoy_2020, color='y')\n",
        "plt.scatter(eixox, eixoy_2020, marker='o', color='y');\n",
        "plt.title(\"Média de streams por dia da semana em 2020\")\n",
        "plt.xlabel(\"Dia da semana\")\n",
        "plt.ylabel(\"Média de streams\")"
      ],
      "execution_count": null,
      "outputs": []
    },
    {
      "cell_type": "markdown",
      "metadata": {
        "id": "mBJ-hQYWUIuk"
      },
      "source": [
        "#### Gráfico 4: Média de streams para cada mês do ano"
      ]
    },
    {
      "cell_type": "markdown",
      "metadata": {
        "id": "v3ecyI-QdSs6"
      },
      "source": [
        "##### Ano de 2017"
      ]
    },
    {
      "cell_type": "code",
      "metadata": {
        "id": "7CCKyPvXUNRI"
      },
      "source": [
        "#Ano 2017\n",
        "meses = ['Jan', 'Fev', 'Mar', 'Abr', 'Mai', 'Jun', 'Jul', 'Ago', 'Set', 'Out', 'Nov', 'Dez']\n",
        "m2017_parte1 = df_2017.groupby('month')\n",
        "m2017 = m2017_parte1['Streams'].mean().sort_values()\n",
        "print(m2017)\n",
        "eixoymeses = [m2017['Janeiro'], m2017['Fevereiro'], m2017['Março'], m2017['Abril'], m2017['Maio'], m2017['Junho'], m2017['Julho'], m2017['Agosto'], m2017['Setembro'], m2017['Outubro'], m2017['Novembro'], m2017['Dezembro']]\n",
        "plt.plot(meses, eixoymeses)\n",
        "plt.scatter(meses, eixoymeses, marker='o');\n",
        "plt.title(\"Média de streams por mês em 2017\")\n",
        "plt.xlabel(\"Mês\")\n",
        "plt.ylabel(\"Média de streams\")\n",
        "plt.show()"
      ],
      "execution_count": null,
      "outputs": []
    },
    {
      "cell_type": "markdown",
      "metadata": {
        "id": "bEhi98rZfM3Q"
      },
      "source": [
        "##### Ano de 2018"
      ]
    },
    {
      "cell_type": "code",
      "metadata": {
        "id": "bI8JEZU5fRJP"
      },
      "source": [
        "#Ano 2018\n",
        "meses = ['Jan', 'Fev', 'Mar', 'Abr', 'Mai', 'Jun', 'Jul', 'Ago', 'Set', 'Out', 'Nov', 'Dez']\n",
        "m2018_parte1 = df_2018.groupby('month')\n",
        "m2018 = m2018_parte1['Streams'].mean().sort_values()\n",
        "print(m2018)\n",
        "eixoymeses = [m2018['Janeiro'], m2018['Fevereiro'], m2018['Março'], m2018['Abril'], m2018['Maio'], m2018['Junho'], m2018['Julho'], m2018['Agosto'], m2018['Setembro'], m2018['Outubro'], m2018['Novembro'], m2018['Dezembro']]\n",
        "plt.plot(meses, eixoymeses)\n",
        "plt.scatter(meses, eixoymeses, marker='o');\n",
        "plt.title(\"Média de streams por mês em 2018\")\n",
        "plt.xlabel(\"Mês\")\n",
        "plt.ylabel(\"Média de streams\")\n",
        "plt.show()"
      ],
      "execution_count": null,
      "outputs": []
    },
    {
      "cell_type": "markdown",
      "metadata": {
        "id": "8NZUw1OlfgVl"
      },
      "source": [
        "##### Ano de 2019"
      ]
    },
    {
      "cell_type": "code",
      "metadata": {
        "id": "7HVRSzIifjFk"
      },
      "source": [
        "#Ano 2019\n",
        "meses = ['Jan', 'Fev', 'Mar', 'Abr', 'Mai', 'Jun', 'Jul', 'Ago', 'Set', 'Out', 'Nov', 'Dez']\n",
        "m2019_parte1 = df_2019.groupby('month')\n",
        "m2019 = m2019_parte1['Streams'].mean().sort_values()\n",
        "print(m2019)\n",
        "eixoymeses = [m2019['Janeiro'], m2019['Fevereiro'], m2019['Março'], m2019['Abril'], m2019['Maio'], m2019['Junho'], m2019['Julho'], m2019['Agosto'], m2019['Setembro'], m2019['Outubro'], m2019['Novembro'], m2019['Dezembro']]\n",
        "plt.plot(meses, eixoymeses)\n",
        "plt.scatter(meses, eixoymeses, marker='o');\n",
        "plt.title(\"Média de streams por mês em 2019\")\n",
        "plt.xlabel(\"Mês\")\n",
        "plt.ylabel(\"Média de streams\")\n",
        "plt.show()"
      ],
      "execution_count": null,
      "outputs": []
    },
    {
      "cell_type": "markdown",
      "metadata": {
        "id": "04Kvxfh5fwvY"
      },
      "source": [
        "##### Ano de 2020"
      ]
    },
    {
      "cell_type": "code",
      "metadata": {
        "id": "Gl-avPg7fypi"
      },
      "source": [
        "#Ano 2020\n",
        "meses = ['Jan', 'Fev', 'Mar', 'Abr', 'Mai', 'Jun', 'Jul', 'Ago', 'Set', 'Out', 'Nov', 'Dez']\n",
        "m2020_parte1 = df_2020.groupby('month')\n",
        "m2020 = m2020_parte1['Streams'].mean().sort_values()\n",
        "print(m2020)\n",
        "eixoymeses = [m2020['Janeiro'], m2020['Fevereiro'], m2020['Março'], m2020['Abril'], m2020['Maio'], m2020['Junho'], m2020['Julho'], m2020['Agosto'], m2020['Setembro'], m2020['Outubro'], m2020['Novembro'], m2020['Dezembro']]\n",
        "plt.plot(meses, eixoymeses)\n",
        "plt.scatter(meses, eixoymeses, marker='o');\n",
        "plt.title(\"Média de streams por mês em 2020\")\n",
        "plt.xlabel(\"Mês\")\n",
        "plt.ylabel(\"Média de streams\")\n",
        "plt.show()"
      ],
      "execution_count": null,
      "outputs": []
    },
    {
      "cell_type": "markdown",
      "metadata": {
        "id": "QQWgv3t6Ub_D"
      },
      "source": [
        "#### Gráfico 5: Evolução da posição das músicas mais ouvidas em cada ano"
      ]
    },
    {
      "cell_type": "markdown",
      "metadata": {
        "id": "57FBJb7VUhLb"
      },
      "source": [
        "##### Ano 2017"
      ]
    },
    {
      "cell_type": "code",
      "source": [
        "top10_2017 = {\n",
        "    1: 'Amante Não Tem Lar - Ao Vivo',\n",
        "    2: 'Olha a Explosão',\n",
        "    3: 'Raspão (feat. Simone & Simaria) - Ao Vivo',\n",
        "    4: 'A Mala É Falsa - Ao Vivo',\n",
        "    5: 'Te Assumi Pro Brasil - Ao Vivo',\n",
        "    6: 'Como Faz Com Ela - Ao Vivo',\n",
        "    7: 'E Essa Boca Aí? - Ao Vivo',\n",
        "    8: 'Regime Fechado - Ao Vivo',\n",
        "    9: 'Hear Me Now',\n",
        "    10: 'Pra Sempre Com Você - Ao Vivo',               \n",
        "}\n",
        "\n",
        "#Escolha da música pelo usuário\n",
        "print(\"Escolha um número de 1 a 10 que corresponda a uma das top 10 músicas de 2017\")\n",
        "for key, value in top10_2017.items():\n",
        "  print(f'{key} - {value}')\n",
        "valor = int(input())\n",
        "\n",
        "#Tratamento\n",
        "topmusic2017 = df_2017[df_2017['Track Name'] == top10_2017[valor]]\n",
        "top2017_1 = topmusic2017.groupby('month')\n",
        "top2017 = topmusic2017.groupby('month').mean()\n",
        "qtd_vezes = top2017_1['Position'].count()\n",
        "total = top2017_1['Position'].sum()\n",
        "nova_serie = total/qtd_vezes\n",
        "\n",
        "#Plotagem da média de streams para cada mês\n",
        "eixox = ['Jan', 'Fev', 'Mar', 'Abr', 'Mai', 'Jun', 'Jul', 'Ago', 'Set', 'Out', 'Nov', 'Dez']\n",
        "eixoy1 = [top2017.Streams['Janeiro'], top2017.Streams['Fevereiro'], top2017.Streams['Março'], top2017.Streams['Abril'], top2017.Streams['Maio'], top2017.Streams['Junho'], \n",
        "         top2017.Streams['Julho'], top2017.Streams['Agosto'], top2017.Streams['Setembro'], top2017.Streams['Outubro'], top2017.Streams['Novembro'], top2017.Streams['Dezembro']]\n",
        "plt.plot(eixox, eixoy1)\n",
        "plt.xlabel(\"Média de streams\")\n",
        "plt.ylabel(\"Mês do ano\")\n",
        "plt.title(f'Evolução da média de streams de \"{top10_2017[valor]}\" no top 200 de 2017')\n",
        "plt.show()\n",
        "\n",
        "#Plotagem da posição média da música para cada mês\n",
        "eixoy2 = [nova_serie['Janeiro'], nova_serie['Fevereiro'], nova_serie['Março'], nova_serie['Abril'], nova_serie['Maio'], nova_serie['Junho'], \n",
        "          nova_serie['Julho'], nova_serie['Agosto'], nova_serie['Setembro'], nova_serie['Outubro'], nova_serie['Novembro'], nova_serie['Dezembro']]\n",
        "plt.plot(eixox, eixoy2)\n",
        "ax = plt.gca()\n",
        "ax.set_ylim(ax.get_ylim()[::-1])\n",
        "plt.title(f'Evolução da posição de \"{top10_2017[valor]}\" no top 200 de 2017')\n",
        "plt.xlabel(\"Posição média\")\n",
        "plt.ylabel(\"Mês do ano\")\n",
        "plt.show()"
      ],
      "metadata": {
        "id": "q9f8r5Lpbe1i"
      },
      "execution_count": null,
      "outputs": []
    },
    {
      "cell_type": "markdown",
      "source": [
        "### **Parte 7**: Gráficos II (EDA)"
      ],
      "metadata": {
        "id": "ckmYMBRhQcuT"
      }
    },
    {
      "cell_type": "markdown",
      "source": [
        "#### Quantidade de vezes que alguns cantores apareceram no top 200"
      ],
      "metadata": {
        "id": "H9_uTlkIsZUH"
      }
    },
    {
      "cell_type": "code",
      "source": [
        "df_top_10_artistas = df_ok.loc[(df_ok.Artist == 'Marília Mendonça') | (df_ok.Artist == 'Matheus & Kauan') | (df_ok.Artist == 'Zé Neto & Cristiano') | (df_ok.Artist == 'Henrique & Juliano') | (df_ok.Artist == 'Jorge & Mateus')]\n",
        "df_top_10_artistas.head()\n",
        "with sns.axes_style('white'): \n",
        "    g = sns.factorplot(\"year\", data=df_top_10_artistas, aspect=4.0, kind='count',\n",
        "                       hue='Artist', order=range(2017, 2021))\n",
        "    g.set_ylabels('Número de vezes que apareceram no top 200')"
      ],
      "metadata": {
        "id": "YxRV3M4IT7zK"
      },
      "execution_count": null,
      "outputs": []
    },
    {
      "cell_type": "code",
      "source": [
        "cantor1 = 'Marília Mendonça'\n",
        "cantor2 = 'Matheus & Kauan'\n",
        "cantor3 = 'Zé Neto & Cristiano'\n",
        "cantor4 = 'Henrique & Juliano'\n",
        "cantor5 = 'Jorge & Mateus'\n",
        "\n",
        "df_cantor1 = df_ok[df_ok.Artist == cantor1]\n",
        "qtd_musicas_cantor1 = len(df_cantor1['Track Name'].unique())\n",
        "\n",
        "df_cantor2 = df_ok[df_ok.Artist == cantor2]\n",
        "qtd_musicas_cantor2 = len(df_cantor2['Track Name'].unique())\n",
        "\n",
        "df_cantor3 = df_ok[df_ok.Artist == cantor3]\n",
        "qtd_musicas_cantor3 = len(df_cantor3['Track Name'].unique())\n",
        "\n",
        "df_cantor4 = df_ok[df_ok.Artist == cantor4]\n",
        "qtd_musicas_cantor4 = len(df_cantor4['Track Name'].unique())\n",
        "\n",
        "df_cantor5 = df_ok[df_ok.Artist == cantor5]\n",
        "qtd_musicas_cantor5 = len(df_cantor5['Track Name'].unique())\n",
        "\n",
        "l1 = [cantor1, cantor2, cantor3, cantor4, cantor5]\n",
        "l2 = [qtd_musicas_cantor1, qtd_musicas_cantor2, qtd_musicas_cantor3, qtd_musicas_cantor4, qtd_musicas_cantor5]\n",
        "\n",
        "df_cantores = pd.DataFrame(list(zip(l1, l2)), columns = ['Artist', 'Musics'])\n",
        "df_cantores\n",
        "plt.figure(1,figsize=(25,10))\n",
        "g = sns.barplot(x=df_cantores.Artist, y=df_cantores.Musics)\n"
      ],
      "metadata": {
        "id": "lOQdnWZMEgBx"
      },
      "execution_count": null,
      "outputs": []
    },
    {
      "cell_type": "markdown",
      "source": [
        "#### Mapas de calor - Média de Streams por mês e por dia da semana"
      ],
      "metadata": {
        "id": "a4kCEGKYsh1h"
      }
    },
    {
      "cell_type": "code",
      "source": [
        "media_streams_meses_2017 = df_2017.groupby('month')\n",
        "s1 = media_streams_meses_2017.Streams.mean()\n",
        "s1.name = '2017'\n",
        "s1 = s1.reindex(index = ['Janeiro', 'Fevereiro', 'Março', 'Abril', 'Maio', 'Junho', 'Julho', 'Agosto', 'Setembro', 'Outubro', 'Novembro', 'Dezembro'])\n",
        "\n",
        "media_streams_meses_2018 = df_2018.groupby('month')\n",
        "s2 = media_streams_meses_2018.Streams.mean()\n",
        "s2.name = '2018'\n",
        "s2 = s2.reindex(index = ['Janeiro', 'Fevereiro', 'Março', 'Abril', 'Maio', 'Junho', 'Julho', 'Agosto', 'Setembro', 'Outubro', 'Novembro', 'Dezembro'])\n",
        "\n",
        "\n",
        "media_streams_meses_2019 = df_2019.groupby('month')\n",
        "s3 = media_streams_meses_2019.Streams.mean()\n",
        "s3.name = '2019'\n",
        "s3 = s3.reindex(index = ['Janeiro', 'Fevereiro', 'Março', 'Abril', 'Maio', 'Junho', 'Julho', 'Agosto', 'Setembro', 'Outubro', 'Novembro', 'Dezembro'])\n",
        "\n",
        "\n",
        "media_streams_meses_2020 = df_2020.groupby('month')\n",
        "s4 = media_streams_meses_2020.Streams.mean()\n",
        "s4.name = '2020'\n",
        "s4 = s4.reindex(index = ['Janeiro', 'Fevereiro', 'Março', 'Abril', 'Maio', 'Junho', 'Julho', 'Agosto', 'Setembro', 'Outubro', 'Novembro', 'Dezembro'])\n",
        "\n",
        "df_mapa_calor_meses = pd.concat([s1, s2, s3, s4], axis=1)\n",
        "print(df_mapa_calor_meses.head())\n",
        "\n",
        "sns.heatmap(data=df_mapa_calor_meses, cmap = 'Oranges')"
      ],
      "metadata": {
        "id": "vFBo9UsZslpQ",
        "colab": {
          "base_uri": "https://localhost:8080/",
          "height": 407
        },
        "outputId": "0e847499-179f-44e8-da1a-09e985d6b125"
      },
      "execution_count": null,
      "outputs": [
        {
          "output_type": "stream",
          "name": "stdout",
          "text": [
            "                   2017           2018           2019           2020\n",
            "month                                                               \n",
            "Janeiro    73110.796935  117952.473344  152349.568226  189514.233871\n",
            "Fevereiro  76249.260714  115226.487500  146128.817679  183339.691552\n",
            "Março      77773.485000  115535.455645  135608.095484  161319.740968\n",
            "Abril      79055.144000  120194.520167  134209.004167  144331.697333\n",
            "Maio       85437.937759  119943.968226  135847.968710  144740.960860\n"
          ]
        },
        {
          "output_type": "execute_result",
          "data": {
            "text/plain": [
              "<matplotlib.axes._subplots.AxesSubplot at 0x7f0c291f7d10>"
            ]
          },
          "metadata": {},
          "execution_count": 7
        },
        {
          "output_type": "display_data",
          "data": {
            "image/png": "[encoded data removed]",
            "text/plain": [
              "<Figure size 432x288 with 2 Axes>"
            ]
          },
          "metadata": {
            "needs_background": "light"
          }
        }
      ]
    },
    {
      "cell_type": "code",
      "source": [
        "media_streams_meses_2017 = df_2017.groupby('weekday')\n",
        "s5 = media_streams_meses_2017.Streams.mean()\n",
        "s5.name = '2017'\n",
        "s5 = s5.reindex(index = ['Domingo', 'Segunda', 'Terça', 'Quarta', 'Quinta', 'Sexta', 'Sábado'])\n",
        "\n",
        "media_streams_meses_2018 = df_2018.groupby('weekday')\n",
        "s6 = media_streams_meses_2018.Streams.mean()\n",
        "s6.name = '2018'\n",
        "s6 = s6.reindex(index = ['Domingo', 'Segunda', 'Terça', 'Quarta', 'Quinta', 'Sexta', 'Sábado'])\n",
        "\n",
        "media_streams_meses_2019 = df_2019.groupby('weekday')\n",
        "s7 = media_streams_meses_2019.Streams.mean()\n",
        "s7.name = '2019'\n",
        "s7 = s7.reindex(index = ['Domingo', 'Segunda', 'Terça', 'Quarta', 'Quinta', 'Sexta', 'Sábado'])\n",
        "\n",
        "\n",
        "media_streams_meses_2020 = df_2020.groupby('weekday')\n",
        "s8 = media_streams_meses_2020.Streams.mean()\n",
        "s8.name = '2020'\n",
        "s8 = s8.reindex(index = ['Domingo', 'Segunda', 'Terça', 'Quarta', 'Quinta', 'Sexta', 'Sábado'])\n",
        "\n",
        "\n",
        "df_mapa_calor_dias_semana = pd.concat([s5, s6, s7, s8], axis=1)\n",
        "df_mapa_calor_dias_semana\n",
        "\n",
        "sns.heatmap(data=df_mapa_calor_dias_semana, cmap = 'Blues')"
      ],
      "metadata": {
        "id": "CWCiSaIhsqN_"
      },
      "execution_count": null,
      "outputs": []
    },
    {
      "cell_type": "markdown",
      "source": [
        "#### Boxplots - Análise relacionada à quantidade de Streams de uma música do top 1 ao top 5"
      ],
      "metadata": {
        "id": "I9qs_z-u0qJf"
      }
    },
    {
      "cell_type": "markdown",
      "source": [
        "##### Ano de 2017"
      ],
      "metadata": {
        "id": "16UbELxU0s_a"
      }
    },
    {
      "cell_type": "code",
      "source": [
        "df_posicao_1_a_5_2017 = df_2017.loc[(df_2017.Position == 1) | (df_2017.Position == 2) | (df_2017.Position == 3) | (df_2017.Position == 4) | (df_2017.Position == 5)]\n",
        "\n",
        "with sns.axes_style(style='ticks'):\n",
        "    g = sns.factorplot(\"Position\", \"Streams\", data=df_posicao_1_a_5_2017, kind=\"box\")"
      ],
      "metadata": {
        "id": "1JSwS9RY0rzs"
      },
      "execution_count": null,
      "outputs": []
    },
    {
      "cell_type": "markdown",
      "source": [
        "##### Ano de 2018"
      ],
      "metadata": {
        "id": "j-ER3XOi02lv"
      }
    },
    {
      "cell_type": "code",
      "source": [
        "df_posicao_1_a_5_2018 = df_2018.loc[(df_2018.Position == 1) | (df_2018.Position == 2) | (df_2018.Position == 3) | (df_2018.Position == 4) | (df_2018.Position == 5)]\n",
        "\n",
        "with sns.axes_style(style='ticks'):\n",
        "    g = sns.factorplot(\"Position\", \"Streams\", data=df_posicao_1_a_5_2018, kind=\"box\")"
      ],
      "metadata": {
        "id": "hlohVnWl03vf"
      },
      "execution_count": null,
      "outputs": []
    },
    {
      "cell_type": "markdown",
      "source": [
        "##### Ano de 2019"
      ],
      "metadata": {
        "id": "Q3fb63r31DAy"
      }
    },
    {
      "cell_type": "code",
      "source": [
        "df_posicao_1_a_5_2019 = df_2019.loc[(df_2019.Position == 1) | (df_2019.Position == 2) | (df_2019.Position == 3) | (df_2019.Position == 4) | (df_2019.Position == 5)]\n",
        "\n",
        "with sns.axes_style(style='ticks'):\n",
        "    g = sns.factorplot(\"Position\", \"Streams\", data=df_posicao_1_a_5_2019, kind=\"box\")"
      ],
      "metadata": {
        "id": "KkHqwM-E1EC3"
      },
      "execution_count": null,
      "outputs": []
    },
    {
      "cell_type": "markdown",
      "source": [
        "##### Ano de 2020"
      ],
      "metadata": {
        "id": "D785xGL11Q_j"
      }
    },
    {
      "cell_type": "code",
      "source": [
        "df_posicao_1_a_5_2020 = df_2020.loc[(df_2020.Position == 1) | (df_2020.Position == 2) | (df_2020.Position == 3) | (df_2020.Position == 4) | (df_2020.Position == 5)]\n",
        "\n",
        "with sns.axes_style(style='ticks'):\n",
        "    g = sns.factorplot(\"Position\", \"Streams\", data=df_posicao_1_a_5_2020, kind=\"box\")"
      ],
      "metadata": {
        "id": "JhKigQRW1Uj5"
      },
      "execution_count": null,
      "outputs": []
    }
  ]
}